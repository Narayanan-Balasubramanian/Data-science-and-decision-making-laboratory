{
  "nbformat": 4,
  "nbformat_minor": 0,
  "metadata": {
    "colab": {
      "name": "Copy of bootstrap.ipynb",
      "provenance": [],
      "collapsed_sections": [],
      "toc_visible": true,
      "include_colab_link": true
    },
    "kernelspec": {
      "display_name": "Python 3",
      "language": "python",
      "name": "python3"
    },
    "language_info": {
      "codemirror_mode": {
        "name": "ipython",
        "version": 3
      },
      "file_extension": ".py",
      "mimetype": "text/x-python",
      "name": "python",
      "nbconvert_exporter": "python",
      "pygments_lexer": "ipython3",
      "version": "3.7.6"
    },
    "pycharm": {
      "stem_cell": {
        "cell_type": "raw",
        "metadata": {
          "collapsed": false
        },
        "source": []
      }
    }
  },
  "cells": [
    {
      "cell_type": "markdown",
      "metadata": {
        "id": "view-in-github",
        "colab_type": "text"
      },
      "source": [
        "<a href=\"https://colab.research.google.com/github/nb20593/data-science/blob/main/Copy_of_bootstrap.ipynb\" target=\"_parent\"><img src=\"https://colab.research.google.com/assets/colab-badge.svg\" alt=\"Open In Colab\"/></a>"
      ]
    },
    {
      "cell_type": "markdown",
      "metadata": {
        "id": "nCi_99yMYIb1"
      },
      "source": [
        "In this notebook you'll create your own bootstrap function following the bootstrap algorithm (check the lecture notes!)"
      ]
    },
    {
      "cell_type": "code",
      "metadata": {
        "id": "LY5zujI2YC37",
        "pycharm": {
          "name": "#%%# Imports\n"
        }
      },
      "source": [
        "import matplotlib.pyplot as plt\n",
        "import pandas as pd\n",
        "import seaborn as sns\n",
        "import numpy as np\n",
        "import random\n"
      ],
      "execution_count": 2,
      "outputs": []
    },
    {
      "cell_type": "code",
      "metadata": {
        "id": "Eqkwj4SMY38t"
      },
      "source": [
        "# Load the data\n",
        "df = pd.read_csv('https://raw.githubusercontent.com/albanda/CE888/master/lab2%20-%20bootstrap/customers.csv')\n",
        "data = df.values.T[1]"
      ],
      "execution_count": 3,
      "outputs": []
    },
    {
      "cell_type": "code",
      "metadata": {
        "id": "Gxvc_bScYC4H",
        "pycharm": {
          "name": "#%%\n"
        }
      },
      "source": [
        "# Checking the notes from the lecture, create here your own bootstrap function:\n",
        "# 1. Sample from the input array x to create an array of samples of shape (n_bootstraps, sample_size)\n",
        "# Hint: Check the function random.choice() on Numpy\n",
        "# 2. Calculate and save the mean of the array (this is \"data_mean\" that is returned by the function)\n",
        "# 3. Calculate the mean from each bootstrap (i.e., row) and store it.\n",
        "# (This should be an array of n_bootstraps values)\n",
        "# 4. Calculate the lower and upper bounds for a 95% CI (hint: check the percentile function on Numpy)\n",
        "# 5. Return data_mean, and the lower and upper bounds of your interval\n",
        "def bootstrap_mean(x, sample_size, n_bootstraps):\n",
        "  empty_array = []\n",
        "  for i in range(n_bootstraps):\n",
        "    bt_array = np.array([np.random.choice(x,sample_size)])\n",
        "    bt_mean= np.mean(bt_array)\n",
        "    empty_array.append(bt_mean)\n",
        "  lower = np.percentile(empty_array,2.5)\n",
        "  upper = np.percentile(empty_array,97.5)\n",
        "  data_mean = np.mean(empty_array)\n",
        "  return data_mean, lower, upper\n"
      ],
      "execution_count": 4,
      "outputs": []
    },
    {
      "cell_type": "code",
      "metadata": {
        "id": "AN7sEOcMYC4P",
        "pycharm": {
          "name": "#%%\n"
        },
        "colab": {
          "base_uri": "https://localhost:8080/",
          "height": 456
        },
        "outputId": "f4b504c5-8156-492c-9555-047a7a13d273"
      },
      "source": [
        "# Call your bootstrap function and plot the results\n",
        "\n",
        "boots = []\n",
        "for i in range(100, 50000, 1000):\n",
        "    boot = bootstrap_mean(data, data.shape[0], i)\n",
        "    boots.append([i, boot[0], \"mean\"])\n",
        "    boots.append([i, boot[1], \"lower\"])\n",
        "    boots.append([i, boot[2], \"upper\"])\n",
        "\n",
        "df_boot = pd.DataFrame(boots, columns=['Bootstrap Iterations', 'Mean', \"Value\"])\n",
        "sns_plot = sns.lmplot(df_boot.columns[0], df_boot.columns[1], data=df_boot, fit_reg=False, hue=\"Value\")\n",
        "\n",
        "sns_plot.axes[0, 0].set_ylim(0,)\n",
        "sns_plot.axes[0, 0].set_xlim(0, 100000)\n"
      ],
      "execution_count": 5,
      "outputs": [
        {
          "output_type": "stream",
          "text": [
            "/usr/local/lib/python3.6/dist-packages/seaborn/_decorators.py:43: FutureWarning: Pass the following variables as keyword args: x, y. From version 0.12, the only valid positional argument will be `data`, and passing other arguments without an explicit keyword will result in an error or misinterpretation.\n",
            "  FutureWarning\n"
          ],
          "name": "stderr"
        },
        {
          "output_type": "execute_result",
          "data": {
            "text/plain": [
              "(0.0, 100000.0)"
            ]
          },
          "metadata": {
            "tags": []
          },
          "execution_count": 5
        },
        {
          "output_type": "display_data",
          "data": {
            "image/png": "[encoded data removed]",
            "text/plain": [
              "<Figure size 425.125x360 with 1 Axes>"
            ]
          },
          "metadata": {
            "tags": [],
            "needs_background": "light"
          }
        }
      ]
    },
    {
      "cell_type": "markdown",
      "metadata": {
        "id": "MjtP4e2_YC4V"
      },
      "source": [
        "\n",
        "Now, modify the bootstrap function you created above so that you can pass your desired confidence interval as a parameter.\n",
        "\n"
      ]
    },
    {
      "cell_type": "code",
      "metadata": {
        "id": "3K9j0FuGYhHs"
      },
      "source": [
        "def bootstrap_mean_ci(sample, sample_size, n_bootstraps, ci):\n",
        "  empty_array = []\n",
        "  for i in range(n_bootstraps):\n",
        "    bt_array = np.array([np.random.choice(sample,sample_size)])\n",
        "    bt_mean= np.mean(bt_array)\n",
        "    empty_array.append(bt_mean)\n",
        "  lower_perct= (100 - ci)/2\n",
        "  upper_perct = 100-lower_perct\n",
        "  lower = np.percentile(empty_array,lower_perct)\n",
        "  upper = np.percentile(empty_array,upper_perct)\n",
        "  data_mean = np.mean(empty_array)\n",
        "  return data_mean, lower, upper"
      ],
      "execution_count": 6,
      "outputs": []
    },
    {
      "cell_type": "code",
      "metadata": {
        "id": "uDnjq08GYl-C",
        "colab": {
          "base_uri": "https://localhost:8080/",
          "height": 456
        },
        "outputId": "336048ef-0088-46f2-fec8-5a6d1816efff"
      },
      "source": [
        "boots = []\n",
        "for i in range(100, 50000, 1000):\n",
        "    boot = bootstrap_mean_ci(data, data.shape[0], i, 95)\n",
        "    boots.append([i, boot[0], \"mean\"])\n",
        "    boots.append([i, boot[1], \"lower\"])\n",
        "    boots.append([i, boot[2], \"upper\"])\n",
        "\n",
        "df_boot = pd.DataFrame(boots, columns=['Boostrap Iterations', 'Mean', \"Value\"])\n",
        "sns_plot = sns.lmplot(df_boot.columns[0], df_boot.columns[1], data=df_boot, fit_reg=False, hue=\"Value\")\n",
        "\n",
        "sns_plot.axes[0, 0].set_ylim(0,)\n",
        "sns_plot.axes[0, 0].set_xlim(0, 100000)\n",
        "\n",
        "#sns_plot.savefig(\"bootstrap_confidence_80.pdf\", bbox_inches='tight')\n"
      ],
      "execution_count": 7,
      "outputs": [
        {
          "output_type": "stream",
          "text": [
            "/usr/local/lib/python3.6/dist-packages/seaborn/_decorators.py:43: FutureWarning: Pass the following variables as keyword args: x, y. From version 0.12, the only valid positional argument will be `data`, and passing other arguments without an explicit keyword will result in an error or misinterpretation.\n",
            "  FutureWarning\n"
          ],
          "name": "stderr"
        },
        {
          "output_type": "execute_result",
          "data": {
            "text/plain": [
              "(0.0, 100000.0)"
            ]
          },
          "metadata": {
            "tags": []
          },
          "execution_count": 7
        },
        {
          "output_type": "display_data",
          "data": {
            "image/png": "[encoded data removed]",
            "text/plain": [
              "<Figure size 425.125x360 with 1 Axes>"
            ]
          },
          "metadata": {
            "tags": [],
            "needs_background": "light"
          }
        }
      ]
    },
    {
      "cell_type": "markdown",
      "metadata": {
        "id": "qjNgXW6wdd7r"
      },
      "source": [
        "# Vehicles dataset\n",
        "\n",
        "Now let's work on a different dataset, which is stored in the vehicles.csv file.\n"
      ]
    },
    {
      "cell_type": "code",
      "metadata": {
        "id": "avWv4ipFdpka",
        "colab": {
          "base_uri": "https://localhost:8080/",
          "height": 1000
        },
        "outputId": "2ab6639e-0f6b-45e4-b4e2-b88e2207dfff"
      },
      "source": [
        "# Load and visualise the vehicles dataset\n",
        "# To load the dataset: https://neptune.ai/blog/google-colab-dealing-with-files (check section \"Load individual files directly from GitHub\")\n",
        "\n",
        "\n",
        "# Note that the current and new fleets are in different columns and have different lengths, so bear this in mind when you're plotting.\n",
        "# You can create separate scatterplots for the two fleets, as you would with the histograms, \n",
        "# or plot them both in one plot (but not one against the other).\n",
        "# <---INSERT YOUR CODE HERE--->\n",
        "# Note: you can add more cells as needed to organise your code and your plots\n",
        "\n",
        "df = pd.read_csv(\"https://github.com/albanda/CE888/raw/master/lab2%20-%20bootstrap/vehicles.csv\")\n",
        "current = df.iloc[:,0]\n",
        "new =df.iloc[:,1]\n",
        "new = new[np.isfinite(new)]\n",
        "plt.scatter(current.index, current)\n",
        "plt.show()\n",
        "plt.scatter(new.index, new)\n",
        "plt.show()\n",
        "sns.displot(data=df,x=current,bins=20,kde=False,rug=True)\n",
        "sns.displot(data=df,x=new,bins=10,kde=False,rug=True)"
      ],
      "execution_count": 8,
      "outputs": [
        {
          "output_type": "display_data",
          "data": {
            "image/png": "[encoded data removed]",
            "text/plain": [
              "<Figure size 432x288 with 1 Axes>"
            ]
          },
          "metadata": {
            "tags": [],
            "needs_background": "light"
          }
        },
        {
          "output_type": "display_data",
          "data": {
            "image/png": "[encoded data removed]",
            "text/plain": [
              "<Figure size 432x288 with 1 Axes>"
            ]
          },
          "metadata": {
            "tags": [],
            "needs_background": "light"
          }
        },
        {
          "output_type": "execute_result",
          "data": {
            "text/plain": [
              "<seaborn.axisgrid.FacetGrid at 0x7f2363a50978>"
            ]
          },
          "metadata": {
            "tags": []
          },
          "execution_count": 8
        },
        {
          "output_type": "display_data",
          "data": {
            "image/png": "[encoded data removed]",
            "text/plain": [
              "<Figure size 360x360 with 1 Axes>"
            ]
          },
          "metadata": {
            "tags": [],
            "needs_background": "light"
          }
        },
        {
          "output_type": "display_data",
          "data": {
            "image/png": "[encoded data removed]",
            "text/plain": [
              "<Figure size 360x360 with 1 Axes>"
            ]
          },
          "metadata": {
            "tags": [],
            "needs_background": "light"
          }
        }
      ]
    },
    {
      "cell_type": "markdown",
      "metadata": {
        "id": "B5d0tXDpIEj8"
      },
      "source": [
        "## Compare the two fleets\r\n",
        "\r\n",
        "The business analysts come up a comparison algorithm that requires the upper and lower bounds for the mean in order to say which fleet is better.\r\n",
        "1. Calculate the mean of both samples.\r\n",
        "2. Using the bootstrap function that you created:\r\n",
        "    - Construct the 95% CI of the mean of the current fleet.\r\n",
        "    - Construct the 95% CI of the mean of the new fleet.\r\n",
        "    - Are they comparable? (i.e., is one better than the other?) -- you can do this with a permutation test (check the lecture notes!)"
      ]
    },
    {
      "cell_type": "code",
      "metadata": {
        "id": "po4mp6zRHC0m",
        "colab": {
          "base_uri": "https://localhost:8080/"
        },
        "outputId": "70561051-837d-4db1-c44d-7b54bcd530df"
      },
      "source": [
        "# <---INSERT YOUR CODE HERE--->\n",
        "curremt_fleet_mean=np.mean(current)\n",
        "new_fleet_mean=np.mean(new)\n",
        "\n",
        "bcurrent_mean=bootstrap_mean_ci(current,current.shape[0],4000,95)\n",
        "bnew_mean=bootstrap_mean_ci(new,new.shape[0],4000,95)\n",
        "\n",
        "x_mean =(new_fleet_mean-curremt_fleet_mean)\n",
        "print (bnew_mean,bcurrent_mean,x_mean)\n",
        "\n"
      ],
      "execution_count": 9,
      "outputs": [
        {
          "output_type": "stream",
          "text": [
            "(30.47686708860759, 29.17721518987342, 31.82278481012658) (20.14527108433735, 19.365361445783133, 20.943775100401606) 10.336434344974837\n"
          ],
          "name": "stdout"
        }
      ]
    },
    {
      "cell_type": "code",
      "metadata": {
        "id": "MkxvDZG4HC0n"
      },
      "source": [
        "# Create your own function for a permutation test here (you will need it for the lab quiz!):\n",
        "def permut_test(sample1, sample2, n_permutations):\n",
        "    \"\"\"\n",
        "    sample1: 1D array\n",
        "    sample2: 1D array (note that the size of the two arrays can be different)\n",
        "    n_permutations: number of permutations to calculate the p-value\n",
        "    \"\"\"\n",
        "    concat = np.concatenate((sample1,sample2))\n",
        "    sample1_mean= np.mean(sample1)\n",
        "    sample2_mean = np.mean(sample2)\n",
        "    t_obs = sample2_mean - sample1_mean\n",
        "    count = 0\n",
        "    for i in range(n_permutations):\n",
        "      perm = np.random.permutation(concat)\n",
        "      pold = perm[:int(len(sample1))]\n",
        "      pnew = perm[int(len(sample1)):]\n",
        "      pold_mean = np.mean(pold)\n",
        "      pnew_mean = np.mean(pnew)\n",
        "      t_perm = pnew_mean-pold_mean\n",
        "      if t_perm > t_obs:\n",
        "        count += 1\n",
        "    pvalue = count/n_permutations\n",
        "    return pvalue"
      ],
      "execution_count": 10,
      "outputs": []
    },
    {
      "cell_type": "markdown",
      "metadata": {
        "id": "Q19KWYG_bhVY"
      },
      "source": [
        "## Testing permutation function"
      ]
    },
    {
      "cell_type": "code",
      "metadata": {
        "colab": {
          "base_uri": "https://localhost:8080/"
        },
        "id": "zJkl83ryvIDf",
        "outputId": "7bad3e8a-ac1d-47a2-cf28-5d0499ba4d09"
      },
      "source": [
        "old = np.array ([0,1,1,0,1,0,1,1,0,1,0])\r\n",
        "new = np.array ([1,0,0,1,0,0,1,0,1,1,1,1,1,1,1,1,1,1,1])\r\n",
        "old_mean = np.mean(old)\r\n",
        "new_mean = np.mean(new)\r\n",
        "#print(old_mean, new_mean,new_mean-old_mean)\r\n",
        "permut_test(old,new,20000)\r\n"
      ],
      "execution_count": 11,
      "outputs": [
        {
          "output_type": "execute_result",
          "data": {
            "text/plain": [
              "0.07505"
            ]
          },
          "metadata": {
            "tags": []
          },
          "execution_count": 11
        }
      ]
    },
    {
      "cell_type": "code",
      "metadata": {
        "id": "AHDFANAF9wws",
        "colab": {
          "base_uri": "https://localhost:8080/"
        },
        "outputId": "0e14bd73-486e-4353-9938-65743865d4c6"
      },
      "source": [
        "old = np.array([0]*9+[1]*2)\r\n",
        "new = np.array([0]*6+[1]*5)\r\n",
        "old_mean = np.mean(old)\r\n",
        "new_mean = np.mean(new)\r\n",
        "print(old_mean, new_mean,new_mean-old_mean)\r\n",
        "permut_test(old,new,20000)\r\n",
        "old"
      ],
      "execution_count": 12,
      "outputs": [
        {
          "output_type": "stream",
          "text": [
            "0.18181818181818182 0.45454545454545453 0.2727272727272727\n"
          ],
          "name": "stdout"
        },
        {
          "output_type": "execute_result",
          "data": {
            "text/plain": [
              "array([0, 0, 0, 0, 0, 0, 0, 0, 0, 1, 1])"
            ]
          },
          "metadata": {
            "tags": []
          },
          "execution_count": 12
        }
      ]
    },
    {
      "cell_type": "markdown",
      "metadata": {
        "id": "5jO5s_GxbugC"
      },
      "source": [
        "## quiz code"
      ]
    },
    {
      "cell_type": "code",
      "metadata": {
        "colab": {
          "base_uri": "https://localhost:8080/"
        },
        "id": "mWAr3BkfKB5h",
        "outputId": "d9e2be07-b4bb-40cf-f676-2f14e6635c22"
      },
      "source": [
        "df = pd.read_csv(\"https://github.com/albanda/CE888/raw/master/lab2%20-%20bootstrap/vehicles.csv\")\r\n",
        "current = np.array(df.iloc[:,0])\r\n",
        "new =df.iloc[:,1]\r\n",
        "new =np.array( new[np.isfinite(new)])\r\n",
        "permut_test(current,new,30000)"
      ],
      "execution_count": 13,
      "outputs": [
        {
          "output_type": "execute_result",
          "data": {
            "text/plain": [
              "0.0"
            ]
          },
          "metadata": {
            "tags": []
          },
          "execution_count": 13
        }
      ]
    },
    {
      "cell_type": "code",
      "metadata": {
        "id": "k3w4qHBfFy55"
      },
      "source": [
        "def bootstrap_std_deviation_ci(sample, sample_size, n_bootstraps, ci):\r\n",
        "  empty_array = []\r\n",
        "  for i in range(n_bootstraps):\r\n",
        "    bt_array = np.array([np.random.choice(sample,sample_size)])\r\n",
        "    bt_std= np.std(bt_array)\r\n",
        "    empty_array.append(bt_std)\r\n",
        "  lower_perct= (100 - ci)/2\r\n",
        "  upper_perct = 100-lower_perct\r\n",
        "  lower = np.percentile(empty_array,lower_perct)\r\n",
        "  upper = np.percentile(empty_array,upper_perct)\r\n",
        "  data_std = np.std(empty_array)\r\n",
        "  return data_std, lower, upper"
      ],
      "execution_count": 14,
      "outputs": []
    },
    {
      "cell_type": "code",
      "metadata": {
        "colab": {
          "base_uri": "https://localhost:8080/"
        },
        "id": "BK6nEsfuEg7T",
        "outputId": "5ebb0b69-1391-4a25-f20f-d18373c84c30"
      },
      "source": [
        "#quiz code for (60% mean of new in vehicle dataset)(85% mean in current in vehicle dataset)\r\n",
        "bootstrap_mean_ci(new,new.shape[0],10000,60)\r\n",
        "bootstrap_mean_ci(current,current.shape[0],10000,85)"
      ],
      "execution_count": 15,
      "outputs": [
        {
          "output_type": "execute_result",
          "data": {
            "text/plain": [
              "(20.14512690763052, 19.562248995983936, 20.718875502008032)"
            ]
          },
          "metadata": {
            "tags": []
          },
          "execution_count": 15
        }
      ]
    },
    {
      "cell_type": "code",
      "metadata": {
        "colab": {
          "base_uri": "https://localhost:8080/"
        },
        "id": "LGsEjK7ZGaGq",
        "outputId": "e718fbf2-0a79-4300-aa7d-29ab97c6e909"
      },
      "source": [
        "bootstrap_std_deviation_ci(new,new.shape[0],10000,73)\r\n",
        "bootstrap_std_deviation_ci(new,new.shape[0],10000,99)"
      ],
      "execution_count": 16,
      "outputs": [
        {
          "output_type": "execute_result",
          "data": {
            "text/plain": [
              "(0.4516925284637127, 4.895629634821543, 7.224138022054082)"
            ]
          },
          "metadata": {
            "tags": []
          },
          "execution_count": 16
        }
      ]
    },
    {
      "cell_type": "code",
      "metadata": {
        "colab": {
          "base_uri": "https://localhost:8080/",
          "height": 378
        },
        "id": "HIqBuMFOV-88",
        "outputId": "1381c515-c0eb-410a-ca0b-84f3d075c240"
      },
      "source": [
        "import voting_data\n",
        "dem_pa= np.array(voting_data.dem_share_PA)\n",
        "dem_oh =np.array(voting_data.dem_share_OH)\n",
        "pa_mean = np.mean(dem_pa)\n",
        "oh_mean = np.mean(dem_oh)\n",
        "print(pa_mean,oh_mean)\n",
        "print(permut_test(dem_pa,dem_oh,30000))\n",
        "#bootstrap_mean_ci(dem_pa,dem_pa.shape[0],100000,98)\n",
        "bootstrap_mean_ci(dem_oh,dem_oh.shape[0],100000,98)"
      ],
      "execution_count": 17,
      "outputs": [
        {
          "output_type": "error",
          "ename": "ModuleNotFoundError",
          "evalue": "ignored",
          "traceback": [
            "\u001b[0;31m---------------------------------------------------------------------------\u001b[0m",
            "\u001b[0;31mModuleNotFoundError\u001b[0m                       Traceback (most recent call last)",
            "\u001b[0;32m<ipython-input-17-97a50ebd139b>\u001b[0m in \u001b[0;36m<module>\u001b[0;34m()\u001b[0m\n\u001b[0;32m----> 1\u001b[0;31m \u001b[0;32mimport\u001b[0m \u001b[0mvoting_data\u001b[0m\u001b[0;34m\u001b[0m\u001b[0;34m\u001b[0m\u001b[0m\n\u001b[0m\u001b[1;32m      2\u001b[0m \u001b[0mdem_pa\u001b[0m\u001b[0;34m=\u001b[0m \u001b[0mnp\u001b[0m\u001b[0;34m.\u001b[0m\u001b[0marray\u001b[0m\u001b[0;34m(\u001b[0m\u001b[0mvoting_data\u001b[0m\u001b[0;34m.\u001b[0m\u001b[0mdem_share_PA\u001b[0m\u001b[0;34m)\u001b[0m\u001b[0;34m\u001b[0m\u001b[0;34m\u001b[0m\u001b[0m\n\u001b[1;32m      3\u001b[0m \u001b[0mdem_oh\u001b[0m \u001b[0;34m=\u001b[0m\u001b[0mnp\u001b[0m\u001b[0;34m.\u001b[0m\u001b[0marray\u001b[0m\u001b[0;34m(\u001b[0m\u001b[0mvoting_data\u001b[0m\u001b[0;34m.\u001b[0m\u001b[0mdem_share_OH\u001b[0m\u001b[0;34m)\u001b[0m\u001b[0;34m\u001b[0m\u001b[0;34m\u001b[0m\u001b[0m\n\u001b[1;32m      4\u001b[0m \u001b[0mpa_mean\u001b[0m \u001b[0;34m=\u001b[0m \u001b[0mnp\u001b[0m\u001b[0;34m.\u001b[0m\u001b[0mmean\u001b[0m\u001b[0;34m(\u001b[0m\u001b[0mdem_pa\u001b[0m\u001b[0;34m)\u001b[0m\u001b[0;34m\u001b[0m\u001b[0;34m\u001b[0m\u001b[0m\n\u001b[1;32m      5\u001b[0m \u001b[0moh_mean\u001b[0m \u001b[0;34m=\u001b[0m \u001b[0mnp\u001b[0m\u001b[0;34m.\u001b[0m\u001b[0mmean\u001b[0m\u001b[0;34m(\u001b[0m\u001b[0mdem_oh\u001b[0m\u001b[0;34m)\u001b[0m\u001b[0;34m\u001b[0m\u001b[0;34m\u001b[0m\u001b[0m\n",
            "\u001b[0;31mModuleNotFoundError\u001b[0m: No module named 'voting_data'",
            "",
            "\u001b[0;31m---------------------------------------------------------------------------\u001b[0;32m\nNOTE: If your import is failing due to a missing package, you can\nmanually install dependencies using either !pip or !apt.\n\nTo view examples of installing some common dependencies, click the\n\"Open Examples\" button below.\n\u001b[0;31m---------------------------------------------------------------------------\u001b[0m\n"
          ]
        }
      ]
    },
    {
      "cell_type": "markdown",
      "metadata": {
        "id": "QLr9yONmcqEt"
      },
      "source": [
        "attempt 2"
      ]
    },
    {
      "cell_type": "code",
      "metadata": {
        "id": "LdGp1KDTchdX"
      },
      "source": [
        "boots = []\r\n",
        "for i in range(100, 50000, 1000):\r\n",
        "    boot = bootstrap_mean_ci(data, data.shape[0], i, 80)\r\n",
        "    boots.append([i, boot[0], \"mean\"])\r\n",
        "    boots.append([i, boot[1], \"lower\"])\r\n",
        "    boots.append([i, boot[2], \"upper\"])\r\n",
        "\r\n",
        "df_boot = pd.DataFrame(boots, columns=['Boostrap Iterations', 'Mean', \"Value\"])\r\n",
        "sns_plot = sns.lmplot(df_boot.columns[0], df_boot.columns[1], data=df_boot, fit_reg=False, hue=\"Value\")\r\n",
        "\r\n",
        "sns_plot.axes[0, 0].set_ylim(0,)\r\n",
        "sns_plot.axes[0, 0].set_xlim(0, 100000)\r\n",
        "\r\n",
        "#sns_plot.savefig(\"bootstrap_confidence_80.pdf\", bbox_inches='tight')"
      ],
      "execution_count": null,
      "outputs": []
    },
    {
      "cell_type": "code",
      "metadata": {
        "id": "QPxTUqUUdEOE"
      },
      "source": [
        "df = pd.read_csv('https://raw.githubusercontent.com/albanda/CE888/master/lab2%20-%20bootstrap/customers.csv')\r\n",
        "data = df.values.T[1]\r\n",
        "boot = bootstrap_mean_ci(data, data.shape[0],10000, 80)\r\n",
        "boot"
      ],
      "execution_count": null,
      "outputs": []
    },
    {
      "cell_type": "code",
      "metadata": {
        "id": "XcejGqyJdozB"
      },
      "source": [
        "df = pd.read_csv(\"https://github.com/albanda/CE888/raw/master/lab2%20-%20bootstrap/vehicles.csv\")\r\n",
        "current = np.array(df.iloc[:,0])\r\n",
        "new =df.iloc[:,1]\r\n",
        "new =np.array( new[np.isfinite(new)])\r\n",
        "bootstrap_mean_ci(new, new.shape[0],10000, 80)"
      ],
      "execution_count": null,
      "outputs": []
    },
    {
      "cell_type": "code",
      "metadata": {
        "colab": {
          "base_uri": "https://localhost:8080/"
        },
        "id": "7CQjR09Pd8_W",
        "outputId": "4b3c5a71-6f5a-41ed-da9c-07103ac9635b"
      },
      "source": [
        "def bootstrap_std_deviation_ci(sample, sample_size, n_bootstraps, ci):\r\n",
        "  empty_array = []\r\n",
        "  for i in range(n_bootstraps):\r\n",
        "    bt_array = np.array([np.random.choice(sample,sample_size)])\r\n",
        "    bt_std= np.std(bt_array)\r\n",
        "    empty_array.append(bt_std)\r\n",
        "  lower_perct= (100 - ci)/2\r\n",
        "  upper_perct = 100-lower_perct\r\n",
        "  lower = np.percentile(empty_array,lower_perct)\r\n",
        "  upper = np.percentile(empty_array,upper_perct)\r\n",
        "  data_std = np.std(empty_array)\r\n",
        "  return data_std, lower, upper\r\n",
        "\r\n",
        "bootstrap_std_deviation_ci(data,data.shape[0],10000,90)\r\n",
        "bootstrap_std_deviation_ci(current,current.shape[0],10000,95)"
      ],
      "execution_count": 22,
      "outputs": [
        {
          "output_type": "execute_result",
          "data": {
            "text/plain": [
              "(0.2874585073885671, 5.810921215616342, 6.938517849677041)"
            ]
          },
          "metadata": {
            "tags": []
          },
          "execution_count": 22
        }
      ]
    },
    {
      "cell_type": "code",
      "metadata": {
        "id": "TBx5sUDzgI0S"
      },
      "source": [
        "import voting_data\r\n",
        "dem_pa= np.array(voting_data.dem_share_PA)\r\n",
        "dem_oh =np.array(voting_data.dem_share_OH)\r\n",
        "pa_mean = np.mean(dem_pa)\r\n",
        "oh_mean = np.mean(dem_oh)\r\n",
        "print(pa_mean,oh_mean)\r\n",
        "print(permut_test(dem_pa,dem_oh,10000))\r\n",
        "print(bootstrap_mean_ci(dem_pa,dem_pa.shape[0],100000,95))\r\n",
        "print(bootstrap_mean_ci(dem_oh,dem_oh.shape[0],100000,95))"
      ],
      "execution_count": null,
      "outputs": []
    },
    {
      "cell_type": "code",
      "metadata": {
        "colab": {
          "base_uri": "https://localhost:8080/"
        },
        "id": "7lrIe5IQZZw4",
        "outputId": "8669cdd8-48ef-4c4d-c8d7-4b308d9db8b1"
      },
      "source": [
        "df = pd.read_csv(\"https://github.com/albanda/CE888/raw/master/lab2%20-%20bootstrap/vehicles.csv\")\r\n",
        "current = np.array(df.iloc[:,0])\r\n",
        "new =df.iloc[:,1]\r\n",
        "new =np.array( new[np.isfinite(new)])\r\n",
        "bootstrap_mean_ci(current, current.shape[0],10000, 80)\r\n",
        "bootstrap_mean_ci(new, new.shape[0],10000, 95)"
      ],
      "execution_count": 19,
      "outputs": [
        {
          "output_type": "execute_result",
          "data": {
            "text/plain": [
              "(30.476563291139243, 29.151898734177216, 31.82278481012658)"
            ]
          },
          "metadata": {
            "tags": []
          },
          "execution_count": 19
        }
      ]
    },
    {
      "cell_type": "code",
      "metadata": {
        "colab": {
          "base_uri": "https://localhost:8080/"
        },
        "id": "RaHMLFepZ7Qx",
        "outputId": "bdb9fdd8-f3c4-49b1-e4be-465eca7cbacc"
      },
      "source": [
        "import voting_data\r\n",
        "dem_pa= np.array(voting_data.dem_share_PA)\r\n",
        "dem_oh =np.array(voting_data.dem_share_OH)\r\n",
        "pa_mean = np.mean(dem_pa)\r\n",
        "oh_mean = np.mean(dem_oh)\r\n",
        "print(pa_mean,oh_mean)\r\n",
        "print(permut_test(dem_pa,dem_oh,20000))\r\n",
        "print(bootstrap_mean_ci(dem_pa,dem_pa.shape[0],100000,90))\r\n",
        "print(bootstrap_mean_ci(dem_oh,dem_oh.shape[0],100000,90))"
      ],
      "execution_count": 25,
      "outputs": [
        {
          "output_type": "stream",
          "text": [
            "45.476417910447765 44.31818181818182\n",
            "0.76765\n",
            "(45.477256443283586, 43.554470149253724, 47.46671641791045)\n",
            "(44.3174963840909, 42.59078977272727, 46.03806818181818)\n"
          ],
          "name": "stdout"
        }
      ]
    }
  ]
}
