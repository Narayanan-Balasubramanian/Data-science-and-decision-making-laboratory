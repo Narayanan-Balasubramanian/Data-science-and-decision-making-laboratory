{
  "nbformat": 4,
  "nbformat_minor": 0,
  "metadata": {
    "colab": {
      "name": "Copy of bootstrap.ipynb",
      "provenance": [],
      "collapsed_sections": [],
      "include_colab_link": true
    },
    "kernelspec": {
      "display_name": "Python 3",
      "language": "python",
      "name": "python3"
    },
    "language_info": {
      "codemirror_mode": {
        "name": "ipython",
        "version": 3
      },
      "file_extension": ".py",
      "mimetype": "text/x-python",
      "name": "python",
      "nbconvert_exporter": "python",
      "pygments_lexer": "ipython3",
      "version": "3.7.6"
    },
    "pycharm": {
      "stem_cell": {
        "cell_type": "raw",
        "metadata": {
          "collapsed": false
        },
        "source": []
      }
    }
  },
  "cells": [
    {
      "cell_type": "markdown",
      "metadata": {
        "id": "view-in-github",
        "colab_type": "text"
      },
      "source": [
        "<a href=\"https://colab.research.google.com/github/nb20593/data-science/blob/main/Copy_of_bootstrap.ipynb\" target=\"_parent\"><img src=\"https://colab.research.google.com/assets/colab-badge.svg\" alt=\"Open In Colab\"/></a>"
      ]
    },
    {
      "cell_type": "markdown",
      "metadata": {
        "id": "nCi_99yMYIb1"
      },
      "source": [
        "In this notebook you'll create your own bootstrap function following the bootstrap algorithm (check the lecture notes!)"
      ]
    },
    {
      "cell_type": "code",
      "metadata": {
        "id": "LY5zujI2YC37",
        "pycharm": {
          "name": "#%%# Imports\n"
        }
      },
      "source": [
        "import matplotlib.pyplot as plt\n",
        "import pandas as pd\n",
        "import seaborn as sns\n",
        "import numpy as np\n",
        "import random\n"
      ],
      "execution_count": null,
      "outputs": []
    },
    {
      "cell_type": "code",
      "metadata": {
        "id": "Eqkwj4SMY38t"
      },
      "source": [
        "# Load the data\n",
        "df = pd.read_csv('https://raw.githubusercontent.com/albanda/CE888/master/lab2%20-%20bootstrap/customers.csv')\n",
        "data = df.values.T[1]"
      ],
      "execution_count": null,
      "outputs": []
    },
    {
      "cell_type": "code",
      "metadata": {
        "id": "Gxvc_bScYC4H",
        "pycharm": {
          "name": "#%%\n"
        }
      },
      "source": [
        "# Checking the notes from the lecture, create here your own bootstrap function:\n",
        "# 1. Sample from the input array x to create an array of samples of shape (n_bootstraps, sample_size)\n",
        "# Hint: Check the function random.choice() on Numpy\n",
        "# 2. Calculate and save the mean of the array (this is \"data_mean\" that is returned by the function)\n",
        "# 3. Calculate the mean from each bootstrap (i.e., row) and store it.\n",
        "# (This should be an array of n_bootstraps values)\n",
        "# 4. Calculate the lower and upper bounds for a 95% CI (hint: check the percentile function on Numpy)\n",
        "# 5. Return data_mean, and the lower and upper bounds of your interval\n",
        "def bootstrap_mean(x, sample_size, n_bootstraps):\n",
        "  empty_array = []\n",
        "  for i in range(n_bootstraps):\n",
        "    bt_array = np.array([np.random.choice(x,sample_size)])\n",
        "    bt_mean= np.mean(bt_array)\n",
        "    empty_array.append(bt_mean)\n",
        "  lower = np.percentile(empty_array,2.5)\n",
        "  upper = np.percentile(empty_array,97.5)\n",
        "  data_mean = np.mean(empty_array)\n",
        "  return data_mean, lower, upper\n"
      ],
      "execution_count": null,
      "outputs": []
    },
    {
      "cell_type": "code",
      "metadata": {
        "id": "AN7sEOcMYC4P",
        "pycharm": {
          "name": "#%%\n"
        },
        "colab": {
          "base_uri": "https://localhost:8080/",
          "height": 456
        },
        "outputId": "ce64c5ee-096f-47d9-88c9-c1a65a8b3020"
      },
      "source": [
        "# Call your bootstrap function and plot the results\n",
        "\n",
        "boots = []\n",
        "for i in range(100, 50000, 1000):\n",
        "    boot = bootstrap_mean(data, data.shape[0], i)\n",
        "    boots.append([i, boot[0], \"mean\"])\n",
        "    boots.append([i, boot[1], \"lower\"])\n",
        "    boots.append([i, boot[2], \"upper\"])\n",
        "\n",
        "df_boot = pd.DataFrame(boots, columns=['Bootstrap Iterations', 'Mean', \"Value\"])\n",
        "sns_plot = sns.lmplot(df_boot.columns[0], df_boot.columns[1], data=df_boot, fit_reg=False, hue=\"Value\")\n",
        "\n",
        "sns_plot.axes[0, 0].set_ylim(0,)\n",
        "sns_plot.axes[0, 0].set_xlim(0, 100000)\n"
      ],
      "execution_count": null,
      "outputs": [
        {
          "output_type": "stream",
          "text": [
            "/usr/local/lib/python3.6/dist-packages/seaborn/_decorators.py:43: FutureWarning: Pass the following variables as keyword args: x, y. From version 0.12, the only valid positional argument will be `data`, and passing other arguments without an explicit keyword will result in an error or misinterpretation.\n",
            "  FutureWarning\n"
          ],
          "name": "stderr"
        },
        {
          "output_type": "execute_result",
          "data": {
            "text/plain": [
              "(0.0, 100000.0)"
            ]
          },
          "metadata": {
            "tags": []
          },
          "execution_count": 90
        },
        {
          "output_type": "display_data",
          "data": {
            "image/png": "[encoded data removed]",
            "text/plain": [
              "<Figure size 425.125x360 with 1 Axes>"
            ]
          },
          "metadata": {
            "tags": [],
            "needs_background": "light"
          }
        }
      ]
    },
    {
      "cell_type": "markdown",
      "metadata": {
        "id": "MjtP4e2_YC4V"
      },
      "source": [
        "\n",
        "Now, modify the bootstrap function you created above so that you can pass your desired confidence interval as a parameter.\n",
        "\n"
      ]
    },
    {
      "cell_type": "code",
      "metadata": {
        "id": "3K9j0FuGYhHs"
      },
      "source": [
        "def bootstrap_mean_ci(sample, sample_size, n_bootstraps, ci):\n",
        "  empty_array = []\n",
        "  for i in range(n_bootstraps):\n",
        "    bt_array = np.array([np.random.choice(sample,sample_size)])\n",
        "    bt_mean= np.mean(bt_array)\n",
        "    empty_array.append(bt_mean)\n",
        "  lower_perct= (100 - ci)/2\n",
        "  upper_perct = 100-lower_perct\n",
        "  lower = np.percentile(empty_array,lower_perct)\n",
        "  upper = np.percentile(empty_array,upper_perct)\n",
        "  data_mean = np.mean(empty_array)\n",
        "  return data_mean, lower, upper"
      ],
      "execution_count": null,
      "outputs": []
    },
    {
      "cell_type": "code",
      "metadata": {
        "id": "uDnjq08GYl-C",
        "colab": {
          "base_uri": "https://localhost:8080/",
          "height": 456
        },
        "outputId": "228ed60f-a9a4-46ec-aec4-5deb141b24d3"
      },
      "source": [
        "boots = []\n",
        "for i in range(100, 50000, 1000):\n",
        "    boot = bootstrap_mean_ci(data, data.shape[0], i, 95)\n",
        "    boots.append([i, boot[0], \"mean\"])\n",
        "    boots.append([i, boot[1], \"lower\"])\n",
        "    boots.append([i, boot[2], \"upper\"])\n",
        "\n",
        "df_boot = pd.DataFrame(boots, columns=['Boostrap Iterations', 'Mean', \"Value\"])\n",
        "sns_plot = sns.lmplot(df_boot.columns[0], df_boot.columns[1], data=df_boot, fit_reg=False, hue=\"Value\")\n",
        "\n",
        "sns_plot.axes[0, 0].set_ylim(0,)\n",
        "sns_plot.axes[0, 0].set_xlim(0, 100000)\n",
        "\n",
        "#sns_plot.savefig(\"bootstrap_confidence_80.pdf\", bbox_inches='tight')\n"
      ],
      "execution_count": null,
      "outputs": [
        {
          "output_type": "stream",
          "text": [
            "/usr/local/lib/python3.6/dist-packages/seaborn/_decorators.py:43: FutureWarning: Pass the following variables as keyword args: x, y. From version 0.12, the only valid positional argument will be `data`, and passing other arguments without an explicit keyword will result in an error or misinterpretation.\n",
            "  FutureWarning\n"
          ],
          "name": "stderr"
        },
        {
          "output_type": "execute_result",
          "data": {
            "text/plain": [
              "(0.0, 100000.0)"
            ]
          },
          "metadata": {
            "tags": []
          },
          "execution_count": 95
        },
        {
          "output_type": "display_data",
          "data": {
            "image/png": "[encoded data removed]",
            "text/plain": [
              "<Figure size 425.125x360 with 1 Axes>"
            ]
          },
          "metadata": {
            "tags": [],
            "needs_background": "light"
          }
        }
      ]
    },
    {
      "cell_type": "code",
      "metadata": {
        "id": "k3w4qHBfFy55"
      },
      "source": [
        "def bootstrap_std_deviation_ci(sample, sample_size, n_bootstraps, ci):\r\n",
        "  empty_array = []\r\n",
        "  for i in range(n_bootstraps):\r\n",
        "    bt_array = np.array([np.random.choice(sample,sample_size)])\r\n",
        "    bt_std= np.std(bt_array)\r\n",
        "    empty_array.append(bt_std)\r\n",
        "  lower_perct= (100 - ci)/2\r\n",
        "  upper_perct = 100-lower_perct\r\n",
        "  lower = np.percentile(empty_array,lower_perct)\r\n",
        "  upper = np.percentile(empty_array,upper_perct)\r\n",
        "  data_std = np.std(empty_array)\r\n",
        "  return data_std, lower, upper"
      ],
      "execution_count": null,
      "outputs": []
    },
    {
      "cell_type": "markdown",
      "metadata": {
        "id": "qjNgXW6wdd7r"
      },
      "source": [
        "# Vehicles dataset\n",
        "\n",
        "Now let's work on a different dataset, which is stored in the vehicles.csv file.\n"
      ]
    },
    {
      "cell_type": "code",
      "metadata": {
        "id": "avWv4ipFdpka",
        "colab": {
          "base_uri": "https://localhost:8080/",
          "height": 1000
        },
        "outputId": "a21e6e0d-b605-4736-80e1-73e8035f8572"
      },
      "source": [
        "# Load and visualise the vehicles dataset\n",
        "# To load the dataset: https://neptune.ai/blog/google-colab-dealing-with-files (check section \"Load individual files directly from GitHub\")\n",
        "\n",
        "\n",
        "# Note that the current and new fleets are in different columns and have different lengths, so bear this in mind when you're plotting.\n",
        "# You can create separate scatterplots for the two fleets, as you would with the histograms, \n",
        "# or plot them both in one plot (but not one against the other).\n",
        "# <---INSERT YOUR CODE HERE--->\n",
        "# Note: you can add more cells as needed to organise your code and your plots\n",
        "\n",
        "df = pd.read_csv(\"https://github.com/albanda/CE888/raw/master/lab2%20-%20bootstrap/vehicles.csv\")\n",
        "current = df.iloc[:,0]\n",
        "new =df.iloc[:,1]\n",
        "new = new[np.isfinite(new)]\n",
        "plt.scatter(current.index, current)\n",
        "plt.show()\n",
        "plt.scatter(new.index, new)\n",
        "plt.show()\n",
        "sns.displot(data=df,x=current,bins=20,kde=False,rug=True)\n",
        "sns.displot(data=df,x=new,bins=10,kde=False,rug=True)\n",
        "\n",
        "permut_test(current,new,20000)"
      ],
      "execution_count": null,
      "outputs": [
        {
          "output_type": "display_data",
          "data": {
            "image/png": "[encoded data removed]",
            "text/plain": [
              "<Figure size 432x288 with 1 Axes>"
            ]
          },
          "metadata": {
            "tags": [],
            "needs_background": "light"
          }
        },
        {
          "output_type": "display_data",
          "data": {
            "image/png": "[encoded data removed]",
            "text/plain": [
              "<Figure size 432x288 with 1 Axes>"
            ]
          },
          "metadata": {
            "tags": [],
            "needs_background": "light"
          }
        },
        {
          "output_type": "execute_result",
          "data": {
            "text/plain": [
              "0.0"
            ]
          },
          "metadata": {
            "tags": []
          },
          "execution_count": 81
        },
        {
          "output_type": "display_data",
          "data": {
            "image/png": "[encoded data removed]",
            "text/plain": [
              "<Figure size 360x360 with 1 Axes>"
            ]
          },
          "metadata": {
            "tags": [],
            "needs_background": "light"
          }
        },
        {
          "output_type": "display_data",
          "data": {
            "image/png": "[encoded data removed]",
            "text/plain": [
              "<Figure size 360x360 with 1 Axes>"
            ]
          },
          "metadata": {
            "tags": [],
            "needs_background": "light"
          }
        }
      ]
    },
    {
      "cell_type": "code",
      "metadata": {
        "colab": {
          "base_uri": "https://localhost:8080/"
        },
        "id": "BK6nEsfuEg7T",
        "outputId": "2394ee98-4896-498b-838b-327eb216273b"
      },
      "source": [
        "#quiz code for (60% mean of new in vehicle dataset)(85% mean in current in vehicle dataset)\r\n",
        "bootstrap_mean_ci(new,new.shape[0],10000,60)\r\n",
        "bootstrap_mean_ci(current,current.shape[0],10000,85)"
      ],
      "execution_count": null,
      "outputs": [
        {
          "output_type": "execute_result",
          "data": {
            "text/plain": [
              "(20.142633333333336, 19.570281124497992, 20.72289156626506)"
            ]
          },
          "metadata": {
            "tags": []
          },
          "execution_count": 104
        }
      ]
    },
    {
      "cell_type": "code",
      "metadata": {
        "colab": {
          "base_uri": "https://localhost:8080/"
        },
        "id": "LGsEjK7ZGaGq",
        "outputId": "4a6f53d6-8cf0-4be4-952d-8e6125f175ad"
      },
      "source": [
        "bootstrap_std_deviation_ci(new,new.shape[0],10000,73)\r\n",
        "bootstrap_std_deviation_ci(new,new.shape[0],10000,99)"
      ],
      "execution_count": null,
      "outputs": [
        {
          "output_type": "execute_result",
          "data": {
            "text/plain": [
              "(0.450567778467614, 4.866583371462947, 7.24721770906547)"
            ]
          },
          "metadata": {
            "tags": []
          },
          "execution_count": 117
        }
      ]
    },
    {
      "cell_type": "markdown",
      "metadata": {
        "id": "B5d0tXDpIEj8"
      },
      "source": [
        "## Compare the two fleets\r\n",
        "\r\n",
        "The business analysts come up a comparison algorithm that requires the upper and lower bounds for the mean in order to say which fleet is better.\r\n",
        "1. Calculate the mean of both samples.\r\n",
        "2. Using the bootstrap function that you created:\r\n",
        "    - Construct the 95% CI of the mean of the current fleet.\r\n",
        "    - Construct the 95% CI of the mean of the new fleet.\r\n",
        "    - Are they comparable? (i.e., is one better than the other?) -- you can do this with a permutation test (check the lecture notes!)"
      ]
    },
    {
      "cell_type": "code",
      "metadata": {
        "id": "po4mp6zRHC0m",
        "colab": {
          "base_uri": "https://localhost:8080/"
        },
        "outputId": "b77a1897-53a8-4807-f10d-7ab25c92436c"
      },
      "source": [
        "# <---INSERT YOUR CODE HERE--->\n",
        "curremt_fleet_mean=np.mean(current)\n",
        "new_fleet_mean=np.mean(new)\n",
        "\n",
        "bcurrent_mean=bootstrap_mean_ci(current,current.shape[0],4000,95)\n",
        "bnew_mean=bootstrap_mean_ci(new,new.shape[0],4000,95)\n",
        "\n",
        "x_mean =(new_fleet_mean-curremt_fleet_mean)\n",
        "print (bnew_mean,bcurrent_mean,x_mean)\n",
        "\n"
      ],
      "execution_count": null,
      "outputs": [
        {
          "output_type": "stream",
          "text": [
            "(0.7391447368421052, 0.5263157894736842, 0.9473684210526315) (20.13500702811245, 19.37339357429719, 20.93574297188755) -19.407736207989853\n"
          ],
          "name": "stdout"
        },
        {
          "output_type": "execute_result",
          "data": {
            "text/plain": [
              "1.0"
            ]
          },
          "metadata": {
            "tags": []
          },
          "execution_count": 79
        }
      ]
    },
    {
      "cell_type": "code",
      "metadata": {
        "id": "MkxvDZG4HC0n"
      },
      "source": [
        "# Create your own function for a permutation test here (you will need it for the lab quiz!):\n",
        "def permut_test(sample1, sample2, n_permutations):\n",
        "    \"\"\"\n",
        "    sample1: 1D array\n",
        "    sample2: 1D array (note that the size of the two arrays can be different)\n",
        "    n_permutations: number of permutations to calculate the p-value\n",
        "    \"\"\"\n",
        "    concat = np.concatenate((sample1,sample2))\n",
        "    sample1_mean= np.mean(sample1)\n",
        "    sample2_mean = np.mean(sample2)\n",
        "    t_obs = sample2_mean - sample1_mean\n",
        "    count = 0\n",
        "    for i in range(n_permutations):\n",
        "      perm = np.random.permutation(concat)\n",
        "      pold = perm[:int(len(sample1))]\n",
        "      pnew = perm[int(len(sample1)):]\n",
        "      pold_mean = np.mean(pold)\n",
        "      pnew_mean = np.mean(pnew)\n",
        "      t_perm = pnew_mean-pold_mean\n",
        "      if t_perm > t_obs:\n",
        "        count += 1\n",
        "    pvalue = count/n_permutations\n",
        "    return pvalue"
      ],
      "execution_count": null,
      "outputs": []
    },
    {
      "cell_type": "code",
      "metadata": {
        "colab": {
          "base_uri": "https://localhost:8080/"
        },
        "id": "zJkl83ryvIDf",
        "outputId": "3f977295-b99b-43e1-8d7a-219cea0e64cb"
      },
      "source": [
        "old = np.array ([0,1,1,0,1,0,1,1,0,1,0])\r\n",
        "new = np.array ([1,0,0,1,0,0,1,0,1,1,1,1,1,1,1,1,1,1,1])\r\n",
        "old_mean = np.mean(old)\r\n",
        "new_mean = np.mean(new)\r\n",
        "#print(old_mean, new_mean,new_mean-old_mean)\r\n",
        "permut_test(old,new,20000)\r\n"
      ],
      "execution_count": null,
      "outputs": [
        {
          "output_type": "execute_result",
          "data": {
            "text/plain": [
              "0.07055"
            ]
          },
          "metadata": {
            "tags": []
          },
          "execution_count": 76
        }
      ]
    },
    {
      "cell_type": "code",
      "metadata": {
        "id": "AHDFANAF9wws",
        "colab": {
          "base_uri": "https://localhost:8080/"
        },
        "outputId": "599acae9-0648-4811-eae5-830483a78d03"
      },
      "source": [
        "old = np.array([0]*9+[1]*2)\r\n",
        "new = np.array([0]*6+[1]*5)\r\n",
        "old_mean = np.mean(old)\r\n",
        "new_mean = np.mean(new)\r\n",
        "print(old_mean, new_mean,new_mean-old_mean)\r\n",
        "permut_test(old,new,20000)\r\n",
        "old"
      ],
      "execution_count": null,
      "outputs": [
        {
          "output_type": "stream",
          "text": [
            "0.18181818181818182 0.45454545454545453 0.2727272727272727\n"
          ],
          "name": "stdout"
        },
        {
          "output_type": "execute_result",
          "data": {
            "text/plain": [
              "array([0, 0, 0, 0, 0, 0, 0, 0, 0, 1, 1])"
            ]
          },
          "metadata": {
            "tags": []
          },
          "execution_count": 121
        }
      ]
    },
    {
      "cell_type": "code",
      "metadata": {
        "colab": {
          "base_uri": "https://localhost:8080/"
        },
        "id": "mWAr3BkfKB5h",
        "outputId": "6e3af1ab-98f8-4fd4-ccef-0c55f0325ceb"
      },
      "source": [
        "df = pd.read_csv(\"https://github.com/albanda/CE888/raw/master/lab2%20-%20bootstrap/vehicles.csv\")\r\n",
        "current = np.array(df.iloc[:,0])\r\n",
        "new =df.iloc[:,1]\r\n",
        "new =np.array( new[np.isfinite(new)])\r\n",
        "permut_test(current,new,30000)"
      ],
      "execution_count": null,
      "outputs": [
        {
          "output_type": "execute_result",
          "data": {
            "text/plain": [
              "0.0"
            ]
          },
          "metadata": {
            "tags": []
          },
          "execution_count": 125
        }
      ]
    },
    {
      "cell_type": "code",
      "metadata": {
        "colab": {
          "base_uri": "https://localhost:8080/"
        },
        "id": "HIqBuMFOV-88",
        "outputId": "801c52ac-62e8-434e-a304-bfcff4c7ebe3"
      },
      "source": [
        "import voting_data\n",
        "dem_pa= np.array(voting_data.dem_share_PA)\n",
        "dem_oh =np.array(voting_data.dem_share_OH)\n",
        "pa_mean = np.mean(dem_pa)\n",
        "oh_mean = np.mean(dem_oh)\n",
        "print(pa_mean,oh_mean)\n",
        "print(permut_test(dem_pa,dem_oh,30000))\n",
        "#bootstrap_mean_ci(dem_pa,dem_pa.shape[0],100000,98)\n",
        "bootstrap_mean_ci(dem_oh,dem_oh.shape[0],100000,98)"
      ],
      "execution_count": 156,
      "outputs": [
        {
          "output_type": "stream",
          "text": [
            "45.476417910447765 44.31818181818182\n",
            "0.7629\n"
          ],
          "name": "stdout"
        },
        {
          "output_type": "execute_result",
          "data": {
            "text/plain": [
              "(44.32003759545455, 41.87227272727273, 46.76341818181818)"
            ]
          },
          "metadata": {
            "tags": []
          },
          "execution_count": 156
        }
      ]
    }
  ]
}